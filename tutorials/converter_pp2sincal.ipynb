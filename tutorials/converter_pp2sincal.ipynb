{
 "cells": [
  {
   "cell_type": "markdown",
   "metadata": {},
   "source": [
    "# Tutorial: Converting a pandapowerNet to PSS Sincal - A minial Example\n",
    "\n",
    "This interactive Jupyter Notebook tutorials demonstrates how a small **pandapowerNet** can be created and afterwards be converted to **PSS Sincal**. The three main steps **initialize**, **convert** and **finalize** are beein executed. An installation of PSS Sincal is needed to finnish the converting, also the needed python packages must be installed in your environment."
   ],
   "id": "f68d976a20916500"
  },
  {
   "cell_type": "markdown",
   "metadata": {},
   "source": [
    "Import all needed python-packages that are used in the following code."
   ],
   "id": "9b86703a437b9dcd"
  },
  {
   "cell_type": "code",
   "execution_count": null,
   "metadata": {},
   "outputs": [],
   "source": [
    "import os\n",
    "\n",
    "from pandapower.test import test_path\n",
    "from pandapower.converter.sincal.pp2sincal.util.main import initialize, convert_pandapower_net, finalize\n",
    "from pandapower.converter.sincal.pp2sincal.pp2sincal import pp2sincal\n",
    "\n",
    "from pandapower.plotting import simple_plot\n",
    "\n",
    "import pandapower as pp"
   ],
   "id": "ce770eada437ddd6"
  },
  {
   "cell_type": "markdown",
   "metadata": {},
   "source": [
    "We imported all packages. Now we create a small network. The network is part of the minimal example tutorial from the pandapower repository: https://github.com/e2nIEE/pandapower/blob/master/tutorials/minimal_example.ipynb"
   ],
   "id": "86a935e1e8478239"
  },
  {
   "cell_type": "code",
   "execution_count": null,
   "metadata": {},
   "outputs": [],
   "source": [
    "# create empty net\n",
    "net_pp = pp.create_empty_network()\n",
    "\n",
    "# create buses\n",
    "bus1 = pp.create_bus(net_pp, vn_kv=20., name=\"Bus 1\")\n",
    "bus2 = pp.create_bus(net_pp, vn_kv=0.4, name=\"Bus 2\")\n",
    "bus3 = pp.create_bus(net_pp, vn_kv=0.4, name=\"Bus 3\")\n",
    "\n",
    "# create bus elements\n",
    "pp.create_ext_grid(net_pp, bus=bus1, vm_pu=1.02, name=\"Grid Connection\")\n",
    "pp.create_load(net_pp, bus=bus3, p_mw=0.100, q_mvar=0.05, name=\"Load\")\n",
    "\n",
    "# create branch elements\n",
    "trafo = pp.create_transformer(net_pp, hv_bus=bus1, lv_bus=bus2, std_type=\"0.4 MVA 20/0.4 kV\", name=\"Trafo\")\n",
    "line = pp.create_line(net_pp, from_bus=bus2, to_bus=bus3, length_km=0.1, std_type=\"NAYY 4x50 SE\", name=\"Line\")"
   ],
   "id": "83a299468af53f5d"
  },
  {
   "cell_type": "markdown",
   "metadata": {},
   "source": [
    "We can look at the dataset by adressing the columns of the **pandas DataFrames**."
   ],
   "id": "f39fe7e8a15d102a"
  },
  {
   "cell_type": "code",
   "execution_count": null,
   "metadata": {},
   "outputs": [],
   "source": [
    "net_pp.bus"
   ],
   "id": "839d913768c910be"
  },
  {
   "cell_type": "markdown",
   "metadata": {},
   "source": [
    "Running a loadflow gives us informations in the net_pp.res_ columns."
   ],
   "id": "f181ddeb2d9c9067"
  },
  {
   "cell_type": "code",
   "execution_count": null,
   "metadata": {},
   "outputs": [],
   "source": [
    "pp.runpp(net_pp)\n",
    "net_pp.res_bus"
   ],
   "id": "a1396e7da6ae533"
  },
  {
   "cell_type": "code",
   "execution_count": null,
   "metadata": {},
   "outputs": [],
   "source": [
    "net_pp.res_line"
   ],
   "id": "560bf5f88414e8c5"
  },
  {
   "cell_type": "markdown",
   "metadata": {},
   "source": [
    "Using the **simple_plot()** method from the plotting module out of pandapower, gives us an overview of the net topology. Due to the fact that we didn't define any geocoordinates, the method will generate **generic** coordinates base on a **networkx graph**. This procedure takes also place in the pp2sincal converter. The graphical aquivalent of the network will be displayed on the are tile in sincal if the plotting flag is set to True."
   ],
   "id": "535725929897d99c"
  },
  {
   "cell_type": "code",
   "execution_count": null,
   "metadata": {},
   "outputs": [],
   "source": [
    "# simple plot of the network\n",
    "simple_plot(net_pp)"
   ],
   "id": "1f51abdf7b323ccc"
  },
  {
   "cell_type": "markdown",
   "metadata": {},
   "source": [
    "We erase the already generated coordinates in order to test the converter with a network without any coordinates."
   ],
   "id": "b9f019cd9b155c03"
  },
  {
   "cell_type": "code",
   "execution_count": null,
   "metadata": {},
   "outputs": [],
   "source": [
    "# Drop generic coordinates \n",
    "net_pp.bus_geodata.drop(index=net_pp.bus.index, inplace=True)"
   ],
   "id": "913a0754e825de83"
  },
  {
   "cell_type": "markdown",
   "metadata": {},
   "source": [
    "To convert our small network to sincal we have to define an output path and some flags for the used methods from the pp2sincal-converter. In this case we use the already imported test_path from the converters repository."
   ],
   "id": "5eb3103c1c71456b"
  },
  {
   "cell_type": "code",
   "execution_count": null,
   "metadata": {},
   "outputs": [],
   "source": [
    "# Set Output path\n",
    "output_folder = os.path.join(test_path, 'converter', 'test_to_sincal', 'results', 'minimal_example')\n",
    "file_name = 'minimal_example_wo_main' + '.sin'\n",
    "use_active_net = False\n",
    "use_ui = False\n",
    "sincal_interaction = False\n",
    "plotting = True\n",
    "delete_files = True"
   ],
   "id": "1afef43a0286642e"
  },
  {
   "cell_type": "markdown",
   "metadata": {},
   "source": [
    "The next steps involve the three main function."
   ],
   "id": "acd0dbd361699fc2"
  },
  {
   "cell_type": "code",
   "execution_count": null,
   "metadata": {},
   "outputs": [],
   "source": [
    "# 1. Initialization\n",
    "net, app, sim, doc = initialize(output_folder, file_name, use_active_net, use_ui, sincal_interaction, delete_files)\n",
    "\n",
    "# 2. Conversion\n",
    "convert_pandapower_net(net, net_pp, doc, plotting)\n",
    "\n",
    "# 3. Finalization\n",
    "finalize(net, output_folder, file_name, app, sim, doc, sincal_interaction)"
   ],
   "id": "5d23f7cc5d4ed3e4"
  },
  {
   "cell_type": "markdown",
   "metadata": {},
   "source": [
    "The .sin file of the network is saved at the test_path. "
   ],
   "id": "64b65cd459e2a96a"
  },
  {
   "cell_type": "markdown",
   "metadata": {},
   "source": [
    "As an alternative to the shown procedure, we can directly convert the network by using the main method. We change the file_name and convert again. But first of all, we have to drop already generated generic coordinates from the first conversion."
   ],
   "id": "e051c0bc1c7e9231"
  },
  {
   "cell_type": "code",
   "execution_count": null,
   "metadata": {},
   "outputs": [],
   "source": [
    "# Drop already generated generic coords\n",
    "net_pp.bus_geodata.drop(index=net_pp.bus.index, inplace=True)"
   ],
   "id": "3cff51623fd57b78"
  },
  {
   "cell_type": "code",
   "execution_count": null,
   "metadata": {},
   "outputs": [],
   "source": [
    "file_name = 'minimal_example_with_main' + '.sin'"
   ],
   "id": "56c0c2a2997da193"
  },
  {
   "cell_type": "code",
   "execution_count": null,
   "metadata": {},
   "outputs": [],
   "source": [
    "# main method combines the three steps initialize, convert and finalize\n",
    "pp2sincal(net_pp, output_folder, file_name, use_active_net, plotting, sincal_interaction)"
   ],
   "id": "2bb7b10785ee7a00"
  }
 ],
 "metadata": {
  "kernelspec": {
   "display_name": "Python 3",
   "language": "python",
   "name": "python3"
  },
  "language_info": {
   "codemirror_mode": {
    "name": "ipython",
    "version": 3
   },
   "file_extension": ".py",
   "mimetype": "text/x-python",
   "name": "python",
   "nbconvert_exporter": "python",
   "pygments_lexer": "ipython3",
   "version": "3.7.6"
  }
 },
 "nbformat": 4,
 "nbformat_minor": 5
}
